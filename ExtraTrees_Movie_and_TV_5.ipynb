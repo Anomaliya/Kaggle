{
 "cells": [
  {
   "cell_type": "code",
   "execution_count": 1,
   "metadata": {
    "collapsed": false
   },
   "outputs": [],
   "source": [
    "# import main libraries/packages\n",
    "import warnings\n",
    "warnings.filterwarnings('ignore') # to ignore annoying IPython warnings\n",
    "import numpy as np\n",
    "import pandas as pd\n",
    "import gzip\n",
    "import re\n",
    "\n",
    "from sklearn.model_selection import train_test_split\n",
    "from scipy.sparse import csr_matrix, hstack # to get memory-efficient representation of matrices (sparse format)\n",
    "from textblob import TextBlob, Word\n",
    "\n",
    "# preprocessing / feature extraction / feature transformation\n",
    "from sklearn.preprocessing import FunctionTransformer\n",
    "from sklearn.feature_extraction.text import TfidfTransformer, TfidfVectorizer, CountVectorizer\n",
    "from sklearn.decomposition import PCA, SparsePCA\n",
    "\n",
    "# models\n",
    "from sklearn.ensemble import ExtraTreesClassifier\n",
    "from sklearn.pipeline import Pipeline, FeatureUnion\n",
    "\n",
    "# metrics/validation\n",
    "from sklearn.model_selection import cross_val_score, train_test_split, StratifiedKFold \n",
    "from sklearn.model_selection import GridSearchCV, RandomizedSearchCV\n",
    "from sklearn.metrics import accuracy_score, f1_score, roc_auc_score, confusion_matrix\n",
    "from sklearn.metrics import classification_report\n",
    "# model serialization/deserialization\n",
    "import dill"
   ]
  },
  {
   "cell_type": "markdown",
   "metadata": {},
   "source": [
    "# loading datasets"
   ]
  },
  {
   "cell_type": "code",
   "execution_count": 4,
   "metadata": {
    "collapsed": false
   },
   "outputs": [
    {
     "name": "stdout",
     "output_type": "stream",
     "text": [
      "review count: 1343971\n"
     ]
    }
   ],
   "source": [
    "# load train dataset\n",
    "train_df_names = ['train.csv']\n",
    "\n",
    "df = pd.concat((pd.read_csv(name, engine='c', sep=',', \n",
    "                 usecols=['overall', 'reviewText']) for name in train_df_names), ignore_index=True)\n",
    "\n",
    "df = df.rename(columns={'overall' : 'label', 'reviewText' : 'text'}) #rename var\n",
    "\n",
    "# load test dataset\n",
    "df_test = pd.read_csv('test.csv', sep=\",\", engine='c', usecols=['overall', 'reviewText'])\n",
    "df_test = df_test.rename(columns={'overall' : 'label', 'reviewText' : 'text'}) #rename var\n",
    "\n",
    "test_RT = pd.read_csv(\"D:/Progr/DA/Kaggle/Data/reviews_rt_all.csv\", sep=\"|\", engine='c', usecols=['label', 'text'])\n",
    "test_imdb = pd.read_csv(\"D:/Progr/DA/Kaggle/Data/imdb_small.csv\", sep=\"|\", engine='c', usecols=['label', 'text'])\n",
    "test_polarity_RT = pd.read_csv(\"Test_RT_polarity.csv\", sep=\",\", engine='c', usecols=['label', 'text'])\n",
    "\n",
    "df.text = df.text.apply(str)\n",
    "df_test.text = df_test.text.apply(str)\n",
    "test_RT.text = test_RT.text.apply(str)\n",
    "test_imdb.text = test_imdb.text.apply(str)\n",
    "test_polarity_RT.text = test_polarity_RT.text.apply(str)\n",
    "\n",
    "print('review count: {}'.format(len(df)))"
   ]
  },
  {
   "cell_type": "code",
   "execution_count": 5,
   "metadata": {
    "collapsed": false
   },
   "outputs": [
    {
     "data": {
      "text/html": [
       "<div>\n",
       "<table border=\"1\" class=\"dataframe\">\n",
       "  <thead>\n",
       "    <tr style=\"text-align: right;\">\n",
       "      <th></th>\n",
       "      <th>label</th>\n",
       "      <th>text</th>\n",
       "    </tr>\n",
       "  </thead>\n",
       "  <tbody>\n",
       "    <tr>\n",
       "      <th>0</th>\n",
       "      <td>1</td>\n",
       "      <td>This is a charming version of the classic Dick...</td>\n",
       "    </tr>\n",
       "    <tr>\n",
       "      <th>1</th>\n",
       "      <td>1</td>\n",
       "      <td>Henry Winkler is very good in this twist on th...</td>\n",
       "    </tr>\n",
       "    <tr>\n",
       "      <th>2</th>\n",
       "      <td>1</td>\n",
       "      <td>This is one of the best Scrooge movies out.  H...</td>\n",
       "    </tr>\n",
       "    <tr>\n",
       "      <th>3</th>\n",
       "      <td>1</td>\n",
       "      <td>This has been a favorite movie of mine for a l...</td>\n",
       "    </tr>\n",
       "    <tr>\n",
       "      <th>4</th>\n",
       "      <td>1</td>\n",
       "      <td>This is the American adaptation of the Charles...</td>\n",
       "    </tr>\n",
       "  </tbody>\n",
       "</table>\n",
       "</div>"
      ],
      "text/plain": [
       "   label                                               text\n",
       "0      1  This is a charming version of the classic Dick...\n",
       "1      1  Henry Winkler is very good in this twist on th...\n",
       "2      1  This is one of the best Scrooge movies out.  H...\n",
       "3      1  This has been a favorite movie of mine for a l...\n",
       "4      1  This is the American adaptation of the Charles..."
      ]
     },
     "execution_count": 5,
     "metadata": {},
     "output_type": "execute_result"
    }
   ],
   "source": [
    "df.head()"
   ]
  },
  {
   "cell_type": "code",
   "execution_count": 13,
   "metadata": {
    "collapsed": false
   },
   "outputs": [
    {
     "name": "stdout",
     "output_type": "stream",
     "text": [
      "class balance Train set: \n",
      " 1    1158561\n",
      "0     185410\n",
      "Name: label, dtype: int64\n",
      "\n",
      " class balance Test set: \n",
      " 1    131041\n",
      "0     21219\n",
      "Name: label, dtype: int64\n",
      "\n",
      " class balance Test RT set: \n",
      " 1    64658\n",
      "0    37952\n",
      "Name: label, dtype: int64\n",
      "\n",
      " class balance Test imdb set: \n",
      " 1    25000\n",
      "0    25000\n",
      "Name: label, dtype: int64\n",
      "\n",
      " class balance Test polarity RT set: \n",
      " 1    5330\n",
      "0    5330\n",
      "Name: label, dtype: int64\n",
      "Wall time: 39 ms\n"
     ]
    }
   ],
   "source": [
    "%%time\n",
    "# check for class balance\n",
    "print('class balance Train set:', '\\n', df.label.value_counts())\n",
    "print('\\n','class balance Test set:', '\\n', df_test.label.value_counts())\n",
    "print('\\n','class balance Test RT set:', '\\n', test_RT.label.value_counts())\n",
    "print('\\n','class balance Test imdb set:', '\\n', test_imdb.label.value_counts())\n",
    "print('\\n','class balance Test polarity RT set:', '\\n', test_polarity_RT.label.value_counts())"
   ]
  },
  {
   "cell_type": "code",
   "execution_count": 14,
   "metadata": {
    "collapsed": false
   },
   "outputs": [
    {
     "name": "stdout",
     "output_type": "stream",
     "text": [
      "class balance: \n",
      " 1    172540\n",
      "0     27460\n",
      "Name: label, dtype: int64\n",
      "Wall time: 480 ms\n"
     ]
    }
   ],
   "source": [
    "%%time\n",
    "# imbalanced data\n",
    "df_small = df.sample(200000, random_state=20)\n",
    "\n",
    "# balanced data\n",
    "#df_small = pd.concat([df[df.label == 1].sample(100000, random_state=43),  df[df.label == 0].sample(100000, random_state=43)])\n",
    "print('class balance:', '\\n', df_small.label.value_counts())"
   ]
  },
  {
   "cell_type": "code",
   "execution_count": 15,
   "metadata": {
    "collapsed": false
   },
   "outputs": [
    {
     "data": {
      "text/html": [
       "<div>\n",
       "<table border=\"1\" class=\"dataframe\">\n",
       "  <thead>\n",
       "    <tr style=\"text-align: right;\">\n",
       "      <th></th>\n",
       "      <th>label</th>\n",
       "      <th>text</th>\n",
       "    </tr>\n",
       "  </thead>\n",
       "  <tbody>\n",
       "    <tr>\n",
       "      <th>958184</th>\n",
       "      <td>1</td>\n",
       "      <td>Like \"Fargo\", the Coen Brothers' \"Burn After R...</td>\n",
       "    </tr>\n",
       "    <tr>\n",
       "      <th>602408</th>\n",
       "      <td>1</td>\n",
       "      <td>If you were privy to the Laurel Canyon lifesty...</td>\n",
       "    </tr>\n",
       "    <tr>\n",
       "      <th>459127</th>\n",
       "      <td>1</td>\n",
       "      <td>This I so enjoyed.  Well written, well acted a...</td>\n",
       "    </tr>\n",
       "    <tr>\n",
       "      <th>1023993</th>\n",
       "      <td>1</td>\n",
       "      <td>Yes, it's not the same as the long running ser...</td>\n",
       "    </tr>\n",
       "    <tr>\n",
       "      <th>1066374</th>\n",
       "      <td>1</td>\n",
       "      <td>My teenage sister watched this with me and she...</td>\n",
       "    </tr>\n",
       "  </tbody>\n",
       "</table>\n",
       "</div>"
      ],
      "text/plain": [
       "         label                                               text\n",
       "958184       1  Like \"Fargo\", the Coen Brothers' \"Burn After R...\n",
       "602408       1  If you were privy to the Laurel Canyon lifesty...\n",
       "459127       1  This I so enjoyed.  Well written, well acted a...\n",
       "1023993      1  Yes, it's not the same as the long running ser...\n",
       "1066374      1  My teenage sister watched this with me and she..."
      ]
     },
     "execution_count": 15,
     "metadata": {},
     "output_type": "execute_result"
    }
   ],
   "source": [
    "df_small.head()"
   ]
  },
  {
   "cell_type": "markdown",
   "metadata": {},
   "source": [
    "# Preprocessing"
   ]
  },
  {
   "cell_type": "code",
   "execution_count": 16,
   "metadata": {
    "collapsed": false
   },
   "outputs": [
    {
     "name": "stdout",
     "output_type": "stream",
     "text": [
      "Wall time: 0 ns\n"
     ]
    }
   ],
   "source": [
    "%%time\n",
    "def get_rate(s):\n",
    "    candidates = re.findall(r'(\\d{1,3}[\\\\|/]{1}\\d{1,2})', s)\n",
    "    rates = []\n",
    "    for c in candidates:\n",
    "        try:\n",
    "            rates.append(eval(c))\n",
    "        except SyntaxError:\n",
    "            pass\n",
    "        except ZeroDivisionError:\n",
    "            return 0\n",
    "    return np.median(rates)\n",
    "\n",
    "# regular expression to split review on sentences\n",
    "sentence_splitter = re.compile('(?<!\\w\\.\\w.)(?<![A-Z][a-z]\\.)(?<![A-Z]\\.)(?<=\\!|\\?|\\.)\\s')\n",
    "\n",
    "# lists of positive/negative smiles\n",
    "positive_smiles = set([\n",
    "\":‑)\",\":)\",\":-]\",\":]\",\":-3\",\":3\",\":->\",\":>\",\"8-)\",\"8)\",\":-}\",\":}\",\":o)\",\":c)\",\":^)\",\"=]\",\"=)\",\":‑D\",\":D\",\"8‑D\",\"8D\",\n",
    "\"x‑D\",\"xD\",\"X‑D\",\"XD\",\"=D\",\"=3\",\"B^D\",\":-))\",\";‑)\",\";)\",\"*-)\",\"*)\",\";‑]\",\";]\",\";^)\",\":‑,\",\";D\",\":‑P\",\":P\",\"X‑P\",\"XP\",\n",
    "\"x‑p\",\"xp\",\":‑p\",\":p\",\":‑Þ\",\":Þ\",\":‑þ\",\":þ\",\":‑b\",\":b\",\"d:\",\"=p\",\">:P\", \":'‑)\", \":')\",  \":-*\", \":*\", \":×\"\n",
    "])\n",
    "negative_smiles = set([\n",
    "\":‑(\",\":(\",\":‑c\",\":c\",\":‑<\",\":<\",\":‑[\",\":[\",\":-||\",\">:[\",\":{\",\":@\",\">:(\",\"D‑':\",\"D:<\",\"D:\",\"D8\",\"D;\",\"D=\",\"DX\",\":‑/\",\n",
    "\":/\",\":‑.\",'>:\\\\', \">:/\", \":\\\\\", \"=/\" ,\"=\\\\\", \":L\", \"=L\",\":S\",\":‑|\",\":|\",\"|‑O\",\"<:‑|\"\n",
    "])\n",
    "\n",
    "# pattern to catch SUCH WORDS and ignore SuCH :)\n",
    "uppercase_pattern = re.compile(r'(\\b[0-9]*[A-Z]+[0-9]*[A-Z]{1,}[0-9]*\\b)')\n",
    "\n",
    "# contrast conjugations\n",
    "contrast_conj = set([\n",
    "'alternatively','anyway','but','by contrast','differ from','elsewhere','even so','however','in contrast','in fact',\n",
    "'in other respects','in spite of','in that respect','instead','nevertheless','on the contrary','on the other hand',\n",
    "'rather','though','whereas','yet'])\n",
    "\n",
    "# to get review \"purity\" ~ same sentiment over review (~1) or not (~0)\n",
    "def purity(sentences):\n",
    "    polarities = np.array([TextBlob(x).sentiment.polarity for x in sentences])\n",
    "    return polarities.sum() / np.abs(polarities).sum()\n",
    "\n",
    "# feature engineering ^-^\n",
    "def get_custom_features(text):\n",
    "    # assume text = pd.Series with review text\n",
    "    print('extracting custom features...')\n",
    "    tdf = pd.DataFrame()\n",
    "    tdf['text'] = text \n",
    "    \n",
    "    # feature 4 - totally uppercase words (like HOLY JESUS!)\n",
    "    tdf['upper_word_cnt'] = tdf.text.apply(lambda s: len(re.findall(uppercase_pattern, s)))\n",
    "    \n",
    "    # try to extract rating :) like \"great film. 9/10\" will yield 0.9\n",
    "    tdf['rating'] = tdf['text'].apply(get_rate).fillna(-1) # feature 5 - rating (if found in review)\n",
    "\n",
    "    # try to extract smiles and count positive/negative smiles per review (features 6,7)\n",
    "    tdf['positive_smiles'] = tdf.text.apply(lambda s: len([x for x in s.split() if x in positive_smiles]))\n",
    "    tdf['negative_smiles'] = tdf.text.apply(lambda s: len([x for x in s.split() if x in negative_smiles]))\n",
    "     \n",
    "    return csr_matrix(tdf[tdf.columns[2:]].values) # to get sparse format"
   ]
  },
  {
   "cell_type": "markdown",
   "metadata": {},
   "source": [
    "# model "
   ]
  },
  {
   "cell_type": "code",
   "execution_count": 17,
   "metadata": {
    "collapsed": true
   },
   "outputs": [],
   "source": [
    "extraction_list = []\n",
    "\n",
    "# 1. custom features\n",
    "extraction_list.append(['custom_features', \n",
    "                             FunctionTransformer(func=get_custom_features,\n",
    "                                                 validate=False,\n",
    "                                                 accept_sparse=True\n",
    "                                                )\n",
    "                            ])\n",
    "# 2. simple bag-of-words (tf-idf)\n",
    "extraction_list.append(['tfidf', \n",
    "                             TfidfVectorizer(decode_error='ignore',\n",
    "                                             max_df=0.75, \n",
    "                                             min_df=3,\n",
    "                                             ngram_range=(1, 3),\n",
    "                                             max_features=None,\n",
    "                                             #stop_words='english'\n",
    "                                            )\n",
    "                            ])\n",
    "\n",
    "extractor = FeatureUnion(extraction_list)"
   ]
  },
  {
   "cell_type": "code",
   "execution_count": 18,
   "metadata": {
    "collapsed": false
   },
   "outputs": [],
   "source": [
    "clf = ExtraTreesClassifier(n_estimators=50, \n",
    "                             max_leaf_nodes=None, \n",
    "                             verbose=1,\n",
    "                             min_samples_leaf=3, \n",
    "                             random_state=1,\n",
    "                             n_jobs=-1,\n",
    "                             class_weight='balanced',\n",
    "                             criterion='entropy'\n",
    "                            )"
   ]
  },
  {
   "cell_type": "code",
   "execution_count": 19,
   "metadata": {
    "collapsed": false
   },
   "outputs": [],
   "source": [
    "# create pipeline, combining steps together                                                                                                                       \n",
    "\n",
    "model = Pipeline(\n",
    "    [\n",
    "        ('feature_extraction', extractor),\n",
    "        ('clf', clf)\n",
    "    ])"
   ]
  },
  {
   "cell_type": "markdown",
   "metadata": {},
   "source": [
    "# training model"
   ]
  },
  {
   "cell_type": "code",
   "execution_count": null,
   "metadata": {
    "collapsed": false
   },
   "outputs": [
    {
     "name": "stdout",
     "output_type": "stream",
     "text": [
      "extracting custom features...\n"
     ]
    }
   ],
   "source": [
    "%%time\n",
    "# train/test split\n",
    "X_train, X_test, y_train, y_test = train_test_split(\n",
    "                                                    df_small.text, \n",
    "                                                    df_small.label, \n",
    "                                                    test_size=0.1, \n",
    "                                                    random_state=20, \n",
    "                                                    stratify=df_small.label\n",
    "                                                   )\n",
    "\n",
    "\n",
    "\n",
    "# fit model\n",
    "model.fit(X_train, y_train)\n",
    "print('finally fitted :)')\n",
    "\n",
    "#check results on validation\n",
    "print('Accuracy on validation: {}'.format(accuracy_score(model.predict(X_test), y_test)))\n",
    "print(classification_report(y_test, model.predict(X_test)))"
   ]
  },
  {
   "cell_type": "markdown",
   "metadata": {},
   "source": [
    "# testing model"
   ]
  },
  {
   "cell_type": "code",
   "execution_count": 20,
   "metadata": {
    "collapsed": false
   },
   "outputs": [
    {
     "name": "stdout",
     "output_type": "stream",
     "text": [
      "extracting custom features...\n"
     ]
    },
    {
     "name": "stderr",
     "output_type": "stream",
     "text": [
      "[Parallel(n_jobs=4)]: Done  42 tasks      | elapsed:   11.1s\n"
     ]
    },
    {
     "name": "stdout",
     "output_type": "stream",
     "text": [
      "             precision    recall  f1-score   support\n",
      "\n",
      "          0       0.74      0.26      0.39     37952\n",
      "          1       0.69      0.95      0.80     64658\n",
      "\n",
      "avg / total       0.71      0.69      0.64    102610\n",
      "\n",
      "accuracy: 0.6932072897378423\n",
      "Wall time: 31.6 s\n"
     ]
    },
    {
     "name": "stderr",
     "output_type": "stream",
     "text": [
      "[Parallel(n_jobs=4)]: Done  50 out of  50 | elapsed:   13.0s finished\n"
     ]
    }
   ],
   "source": [
    "%%time\n",
    "# test predict RT\n",
    "X, y = test_RT.text, test_RT.label\n",
    "y_pred_RT = model.predict(X)\n",
    "print(classification_report(y, y_pred_RT))\n",
    "print('accuracy: {}'.format(accuracy_score(y, y_pred_RT)))\n"
   ]
  },
  {
   "cell_type": "code",
   "execution_count": null,
   "metadata": {
    "collapsed": true
   },
   "outputs": [],
   "source": [
    "# test predict imdb\n",
    "X, y = test_imdb.text, test_imdb.label\n",
    "y_pred_imdb = model.predict(X)\n",
    "print(classification_report(y, y_pred_imdb ))\n",
    "print('accuracy: {}'.format(accuracy_score(y, y_pred_imdb)))"
   ]
  },
  {
   "cell_type": "code",
   "execution_count": null,
   "metadata": {
    "collapsed": true
   },
   "outputs": [],
   "source": [
    "# test predict polarity_RT\n",
    "X, y = test_polarity_RT.text, test_polarity_RT.label\n",
    "y_pred_pol = model.predict(X)\n",
    "print(classification_report(y, y_pred_pol))\n",
    "print('accuracy: {}'.format(accuracy_score(y, y_pred_pol)))"
   ]
  },
  {
   "cell_type": "code",
   "execution_count": 11,
   "metadata": {
    "collapsed": false
   },
   "outputs": [
    {
     "name": "stdout",
     "output_type": "stream",
     "text": [
      "extracting custom features...\n"
     ]
    },
    {
     "name": "stderr",
     "output_type": "stream",
     "text": [
      "[Parallel(n_jobs=4)]: Done  42 tasks      | elapsed:   18.4s\n",
      "[Parallel(n_jobs=4)]: Done  50 out of  50 | elapsed:   21.2s finished\n"
     ]
    },
    {
     "name": "stdout",
     "output_type": "stream",
     "text": [
      "             precision    recall  f1-score   support\n",
      "\n",
      "          0       0.60      0.80      0.69     21219\n",
      "          1       0.97      0.91      0.94    131041\n",
      "\n",
      "avg / total       0.91      0.90      0.90    152260\n",
      "\n",
      "accuracy: 0.8983777748587942\n",
      "Wall time: 2min 2s\n"
     ]
    }
   ],
   "source": [
    "%%time\n",
    "#test predict\n",
    "X, y = df_test.text, df_test.label\n",
    "y_pred = model.predict(X)\n",
    "print(classification_report(y, y_pred)) # смотреть на значение f1-score в строке для класса 0\n",
    "print('accuracy: {}'.format(accuracy_score(y, y_pred)))\n",
    "#print('f1-score: {}'.format(f1_score(y, y_pred)))"
   ]
  },
  {
   "cell_type": "code",
   "execution_count": null,
   "metadata": {
    "collapsed": false
   },
   "outputs": [],
   "source": [
    "import os\n",
    "\n",
    "filename = 'ExtraTrees_MovTv_5-model.pkl'\n",
    "try:\n",
    "    with open(filename, 'wb') as f:\n",
    "        print('saving model...')\n",
    "        dill.dump(model, f)\n",
    "        print('model saved in file {}'.format(os.getcwd() + os.sep + filename))\n",
    "except:\n",
    "    print('Errors in model dump...')"
   ]
  }
 ],
 "metadata": {
  "kernelspec": {
   "display_name": "Python 3",
   "language": "python",
   "name": "python3"
  },
  "language_info": {
   "codemirror_mode": {
    "name": "ipython",
    "version": 3
   },
   "file_extension": ".py",
   "mimetype": "text/x-python",
   "name": "python",
   "nbconvert_exporter": "python",
   "pygments_lexer": "ipython3",
   "version": "3.6.0"
  }
 },
 "nbformat": 4,
 "nbformat_minor": 2
}
