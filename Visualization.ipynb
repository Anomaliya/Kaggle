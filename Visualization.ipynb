{
 "cells": [
  {
   "cell_type": "code",
   "execution_count": null,
   "metadata": {
    "collapsed": true
   },
   "outputs": [],
   "source": [
    "from pandas import DataFrame\n",
    "import matplotlib.pyplot as plt\n",
    "%matplotlib inline"
   ]
  },
  {
   "cell_type": "code",
   "execution_count": null,
   "metadata": {
    "collapsed": true
   },
   "outputs": [],
   "source": [
    "a = DataFrame([['100k', 0.9082, 0.5268],\n",
    "                 ['200k', 0.9155, 0.5787],\n",
    "                 ['500k', 0.9218, 0.6282],\n",
    "                 ['1M', 0.9278, 0.6620],\n",
    "                 ['1,3M', 0.9298, 0.6745]], columns = ['n_rows', 'acc', 'f1'])\n",
    "b = DataFrame([['100k', 0.6269, 0.4374],\n",
    "                 ['200k', 0.6461, 0.4853],\n",
    "                 ['500k', 0.6735, 0.5411],\n",
    "                 ['1M', 0.6927, 0.5821],\n",
    "                 ['1,3M', 0.7022, 0.6014]], columns = ['n_rows', 'acc', 'f1'])"
   ]
  },
  {
   "cell_type": "code",
   "execution_count": null,
   "metadata": {
    "collapsed": true
   },
   "outputs": [],
   "source": [
    "plt.figure(figsize=((12,6)))\n",
    "xs = [i for i, _ in enumerate(a.acc)]\n",
    "plt.plot(xs, a.acc, 'g-', label='Accuracy')\n",
    "plt.plot(xs, a.f1, 'r-', label='F1 score')\n",
    "# plt.axis([0, 4, 0, 1.])\n",
    "plt.xlabel(\"number of train samples\")\n",
    "plt.xticks(xs, a.n_rows)\n",
    "plt.title(\"test on amazon data\")\n",
    "plt.legend()\n",
    "plt.show()"
   ]
  },
  {
   "cell_type": "code",
   "execution_count": null,
   "metadata": {
    "collapsed": true
   },
   "outputs": [],
   "source": [
    "plt.figure(figsize=(12,6))\n",
    "xs = [i for i, _ in enumerate(b.acc)]\n",
    "plt.plot(xs, b.acc, 'g-', label='Accuracy')\n",
    "plt.plot(xs, b.f1, 'r-', label='F1 score')\n",
    "# plt.axis([0, 4, .9, 1.])\n",
    "plt.xlabel(\"number of train samples\")\n",
    "plt.xticks(xs, b.n_rows)\n",
    "plt.title(\"test on rt data\")\n",
    "plt.legend()\n",
    "plt.show()"
   ]
  }
 ],
 "metadata": {
  "kernelspec": {
   "display_name": "Python 3",
   "language": "python",
   "name": "python3"
  },
  "language_info": {
   "codemirror_mode": {
    "name": "ipython",
    "version": 3
   },
   "file_extension": ".py",
   "mimetype": "text/x-python",
   "name": "python",
   "nbconvert_exporter": "python",
   "pygments_lexer": "ipython3",
   "version": "3.6.0"
  }
 },
 "nbformat": 4,
 "nbformat_minor": 2
}
